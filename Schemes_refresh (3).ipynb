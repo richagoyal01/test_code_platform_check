{
 "cells": [
  {
   "cell_type": "code",
   "execution_count": 1,
   "id": "3aad5e7b",
   "metadata": {
    "execution": {
     "iopub.execute_input": "2023-12-12T12:31:11.482785Z",
     "iopub.status.busy": "2023-12-12T12:31:11.482512Z",
     "iopub.status.idle": "2023-12-12T12:31:42.071926Z",
     "shell.execute_reply": "2023-12-12T12:31:42.071415Z",
     "shell.execute_reply.started": "2023-12-12T12:31:11.482762Z"
    },
    "tags": []
   },
   "outputs": [
    {
     "data": {
      "application/vnd.jupyter.widget-view+json": {
       "model_id": "4546db2db219447e98fb209adc368e9a",
       "version_major": 2,
       "version_minor": 0
      },
      "text/plain": [
       "VBox()"
      ]
     },
     "metadata": {},
     "output_type": "display_data"
    },
    {
     "name": "stdout",
     "output_type": "stream",
     "text": [
      "Starting Spark application\n"
     ]
    },
    {
     "data": {
      "text/html": [
       "<table>\n",
       "<tr><th>ID</th><th>YARN Application ID</th><th>Kind</th><th>State</th><th>Spark UI</th><th>Driver log</th><th>User</th><th>Current session?</th></tr><tr><td>0</td><td>application_1714708387125_0003</td><td>pyspark</td><td>idle</td><td><a target=\"_blank\" href=\"http://ip-10-16-3-167.ap-south-1.compute.internal:20888/proxy/application_1714708387125_0003/\" class=\"emr-proxy-link\" emr-resource=\"j-227RMNEFK97J6\n",
       "\" application-id=\"application_1714708387125_0003\">Link</a></td><td><a target=\"_blank\" href=\"http://ip-10-16-3-145.ap-south-1.compute.internal:8042/node/containerlogs/container_1714708387125_0003_01_000001/livy\" >Link</a></td><td>None</td><td>✔</td></tr></table>"
      ],
      "text/plain": [
       "<IPython.core.display.HTML object>"
      ]
     },
     "metadata": {},
     "output_type": "display_data"
    },
    {
     "data": {
      "application/vnd.jupyter.widget-view+json": {
       "model_id": "",
       "version_major": 2,
       "version_minor": 0
      },
      "text/plain": [
       "FloatProgress(value=0.0, bar_style='info', description='Progress:', layout=Layout(height='25px', width='50%'),…"
      ]
     },
     "metadata": {},
     "output_type": "display_data"
    },
    {
     "name": "stdout",
     "output_type": "stream",
     "text": [
      "SparkSession available as 'spark'.\n"
     ]
    },
    {
     "data": {
      "application/vnd.jupyter.widget-view+json": {
       "model_id": "",
       "version_major": 2,
       "version_minor": 0
      },
      "text/plain": [
       "FloatProgress(value=0.0, bar_style='info', description='Progress:', layout=Layout(height='25px', width='50%'),…"
      ]
     },
     "metadata": {},
     "output_type": "display_data"
    }
   ],
   "source": [
    "import pyspark"
   ]
  },
  {
   "cell_type": "code",
   "execution_count": 2,
   "id": "e0279938",
   "metadata": {
    "execution": {
     "iopub.execute_input": "2023-12-12T12:31:42.105079Z",
     "iopub.status.busy": "2023-12-12T12:31:42.104889Z",
     "iopub.status.idle": "2023-12-12T12:31:42.842167Z",
     "shell.execute_reply": "2023-12-12T12:31:42.841646Z",
     "shell.execute_reply.started": "2023-12-12T12:31:42.105060Z"
    }
   },
   "outputs": [
    {
     "data": {
      "application/vnd.jupyter.widget-view+json": {
       "model_id": "a98ea5d2369242378adb78ad551c4ce9",
       "version_major": 2,
       "version_minor": 0
      },
      "text/plain": [
       "VBox()"
      ]
     },
     "metadata": {},
     "output_type": "display_data"
    },
    {
     "data": {
      "application/vnd.jupyter.widget-view+json": {
       "model_id": "",
       "version_major": 2,
       "version_minor": 0
      },
      "text/plain": [
       "FloatProgress(value=0.0, bar_style='info', description='Progress:', layout=Layout(height='25px', width='50%'),…"
      ]
     },
     "metadata": {},
     "output_type": "display_data"
    }
   ],
   "source": [
    "import pandas as pd\n",
    "from pyspark.sql.functions import *\n",
    "from pyspark.sql import functions as F\n",
    "from pyspark.sql import SparkSession\n",
    "from pyspark.sql.functions import col, avg, expr, sum, min, max, concat, to_date, length, datediff, lit, current_date\n",
    "from pyspark.sql.window import Window"
   ]
  },
  {
   "cell_type": "code",
   "execution_count": 3,
   "id": "22ca95d3-31a2-4758-b129-5cb351f08122",
   "metadata": {
    "execution": {
     "iopub.execute_input": "2023-12-12T12:31:42.870839Z",
     "iopub.status.busy": "2023-12-12T12:31:42.870648Z",
     "iopub.status.idle": "2023-12-12T12:31:42.899784Z",
     "shell.execute_reply": "2023-12-12T12:31:42.899293Z",
     "shell.execute_reply.started": "2023-12-12T12:31:42.870821Z"
    },
    "tags": []
   },
   "outputs": [
    {
     "data": {
      "application/vnd.jupyter.widget-view+json": {
       "model_id": "156c648009fc4e498bcd50e4952754f1",
       "version_major": 2,
       "version_minor": 0
      },
      "text/plain": [
       "VBox()"
      ]
     },
     "metadata": {},
     "output_type": "display_data"
    },
    {
     "data": {
      "application/vnd.jupyter.widget-view+json": {
       "model_id": "",
       "version_major": 2,
       "version_minor": 0
      },
      "text/plain": [
       "FloatProgress(value=0.0, bar_style='info', description='Progress:', layout=Layout(height='25px', width='50%'),…"
      ]
     },
     "metadata": {},
     "output_type": "display_data"
    }
   ],
   "source": [
    "redshift_url = \"jdbc:redshift://{host}:{port}/{database}\".format(\n",
    "    host=\"pidiliteredshiftfractal.ckxxid8ylf5i.ap-south-1.redshift.amazonaws.com\",\n",
    "    port=\"5439\",\n",
    "    database=\"pidilite_db\"\n",
    ")\n",
    "\n",
    "redshift_properties = {\n",
    "    \"user\": \"awsuser\",\n",
    "    \"password\": \"Awstestuser123\",\n",
    "    \"driver\": \"com.amazon.redshift.jdbc42.Driver\"\n",
    "}"
   ]
  },
  {
   "cell_type": "code",
   "execution_count": 4,
   "id": "49cd9dec-d0f0-4437-8771-1174515e0673",
   "metadata": {
    "execution": {
     "iopub.execute_input": "2023-12-12T12:31:42.900767Z",
     "iopub.status.busy": "2023-12-12T12:31:42.900480Z",
     "iopub.status.idle": "2023-12-12T12:31:42.928842Z",
     "shell.execute_reply": "2023-12-12T12:31:42.928362Z",
     "shell.execute_reply.started": "2023-12-12T12:31:42.900747Z"
    },
    "tags": []
   },
   "outputs": [
    {
     "data": {
      "application/vnd.jupyter.widget-view+json": {
       "model_id": "e926dc2ba7a242aba81bca8414a26f0b",
       "version_major": 2,
       "version_minor": 0
      },
      "text/plain": [
       "VBox()"
      ]
     },
     "metadata": {},
     "output_type": "display_data"
    },
    {
     "data": {
      "application/vnd.jupyter.widget-view+json": {
       "model_id": "",
       "version_major": 2,
       "version_minor": 0
      },
      "text/plain": [
       "FloatProgress(value=0.0, bar_style='info', description='Progress:', layout=Layout(height='25px', width='50%'),…"
      ]
     },
     "metadata": {},
     "output_type": "display_data"
    }
   ],
   "source": [
    "def date_filter_select_features(df, date_column, start_day, end_day, feature_columns):\n",
    "    ## Change to date time\n",
    "    df = df.withColumn(\n",
    "    date_column, \n",
    "    to_date(col(date_column).cast(\"string\"), \"yyyyMMdd\")\n",
    "    )\n",
    "    # Filter the DataFrame based on start day and end day\n",
    "    filtered_df = df.filter((col(date_column) >= start_day) & (col(date_column) <= end_day))\n",
    "\n",
    "    # Select the desired feature columns\n",
    "    selected_df = filtered_df.select(*feature_columns)\n",
    "\n",
    "    return selected_df\n",
    "# def apply_aggregations(df, group_by_columns, aggregation_dict):\n",
    "#     # Apply the specified aggregations to the DataFrame\n",
    "#     aggregated_df = df.groupBy(*group_by_columns).agg(*aggregation_dict)\n",
    "\n",
    "#     return aggregated_df"
   ]
  },
  {
   "cell_type": "code",
   "execution_count": 5,
   "id": "1d6738fd",
   "metadata": {},
   "outputs": [
    {
     "data": {
      "application/vnd.jupyter.widget-view+json": {
       "model_id": "4f6cbb256133424eb360ff23da35d4ad",
       "version_major": 2,
       "version_minor": 0
      },
      "text/plain": [
       "VBox()"
      ]
     },
     "metadata": {},
     "output_type": "display_data"
    },
    {
     "data": {
      "application/vnd.jupyter.widget-view+json": {
       "model_id": "",
       "version_major": 2,
       "version_minor": 0
      },
      "text/plain": [
       "FloatProgress(value=0.0, bar_style='info', description='Progress:', layout=Layout(height='25px', width='50%'),…"
      ]
     },
     "metadata": {},
     "output_type": "display_data"
    }
   ],
   "source": [
    "from datetime import datetime\n",
    "from dateutil.relativedelta import relativedelta\n",
    "from datetime import timedelta"
   ]
  },
  {
   "cell_type": "code",
   "execution_count": 6,
   "id": "44339155",
   "metadata": {},
   "outputs": [
    {
     "data": {
      "application/vnd.jupyter.widget-view+json": {
       "model_id": "2195e15eb51e4152a5416a6f04413d95",
       "version_major": 2,
       "version_minor": 0
      },
      "text/plain": [
       "VBox()"
      ]
     },
     "metadata": {},
     "output_type": "display_data"
    },
    {
     "data": {
      "application/vnd.jupyter.widget-view+json": {
       "model_id": "",
       "version_major": 2,
       "version_minor": 0
      },
      "text/plain": [
       "FloatProgress(value=0.0, bar_style='info', description='Progress:', layout=Layout(height='25px', width='50%'),…"
      ]
     },
     "metadata": {},
     "output_type": "display_data"
    },
    {
     "name": "stdout",
     "output_type": "stream",
     "text": [
      "datetime.datetime(2024, 5, 3, 0, 0)"
     ]
    }
   ],
   "source": [
    "current_yearmomnth= datetime.now()\n",
    "current_yearmomnth= datetime(current_yearmomnth.year, current_yearmomnth.month, current_yearmomnth.day)\n",
    "current_yearmomnth"
   ]
  },
  {
   "cell_type": "code",
   "execution_count": 7,
   "id": "a67384ea",
   "metadata": {},
   "outputs": [
    {
     "data": {
      "application/vnd.jupyter.widget-view+json": {
       "model_id": "2b0500dc15a44288bdcde8897a2d24be",
       "version_major": 2,
       "version_minor": 0
      },
      "text/plain": [
       "VBox()"
      ]
     },
     "metadata": {},
     "output_type": "display_data"
    },
    {
     "data": {
      "application/vnd.jupyter.widget-view+json": {
       "model_id": "",
       "version_major": 2,
       "version_minor": 0
      },
      "text/plain": [
       "FloatProgress(value=0.0, bar_style='info', description='Progress:', layout=Layout(height='25px', width='50%'),…"
      ]
     },
     "metadata": {},
     "output_type": "display_data"
    },
    {
     "name": "stdout",
     "output_type": "stream",
     "text": [
      "(2024, 5)"
     ]
    }
   ],
   "source": [
    "current_yearmomnth.year, current_yearmomnth.month"
   ]
  },
  {
   "cell_type": "code",
   "execution_count": 8,
   "id": "573ef545",
   "metadata": {},
   "outputs": [
    {
     "data": {
      "application/vnd.jupyter.widget-view+json": {
       "model_id": "5f35614b442a4312b905c5334e085688",
       "version_major": 2,
       "version_minor": 0
      },
      "text/plain": [
       "VBox()"
      ]
     },
     "metadata": {},
     "output_type": "display_data"
    },
    {
     "data": {
      "application/vnd.jupyter.widget-view+json": {
       "model_id": "",
       "version_major": 2,
       "version_minor": 0
      },
      "text/plain": [
       "FloatProgress(value=0.0, bar_style='info', description='Progress:', layout=Layout(height='25px', width='50%'),…"
      ]
     },
     "metadata": {},
     "output_type": "display_data"
    }
   ],
   "source": [
    "#dealer_master= spark.read.parquet(\"s3://pidilite-raw-zone/silver/Dimdealer_MS/\")\n",
    "# sales_group_to_filter= ['201', '301', '105', '401', '901', '902']\n",
    "#dealer_master= dealer_master.filter(col('salesgroupcode').isin(sales_group_to_filter))\n",
    "#dealer_master.count(), dealer_master.select('dealersgkey').distinct().count(), dealer_master.select('salesgroupcode').distinct().show()"
   ]
  },
  {
   "cell_type": "markdown",
   "id": "021db681",
   "metadata": {},
   "source": [
    "<h3> Input params"
   ]
  },
  {
   "cell_type": "code",
   "execution_count": 9,
   "id": "49d772a6",
   "metadata": {},
   "outputs": [
    {
     "data": {
      "application/vnd.jupyter.widget-view+json": {
       "model_id": "f87585b6c19e44839fde66b3cba303a5",
       "version_major": 2,
       "version_minor": 0
      },
      "text/plain": [
       "VBox()"
      ]
     },
     "metadata": {},
     "output_type": "display_data"
    },
    {
     "data": {
      "application/vnd.jupyter.widget-view+json": {
       "model_id": "",
       "version_major": 2,
       "version_minor": 0
      },
      "text/plain": [
       "FloatProgress(value=0.0, bar_style='info', description='Progress:', layout=Layout(height='25px', width='50%'),…"
      ]
     },
     "metadata": {},
     "output_type": "display_data"
    }
   ],
   "source": [
    "target_cap_n_times= 3"
   ]
  },
  {
   "cell_type": "code",
   "execution_count": 10,
   "id": "0bba2f10",
   "metadata": {},
   "outputs": [
    {
     "data": {
      "application/vnd.jupyter.widget-view+json": {
       "model_id": "6d8717beef0144249f0390a1c8b0393d",
       "version_major": 2,
       "version_minor": 0
      },
      "text/plain": [
       "VBox()"
      ]
     },
     "metadata": {},
     "output_type": "display_data"
    },
    {
     "data": {
      "application/vnd.jupyter.widget-view+json": {
       "model_id": "",
       "version_major": 2,
       "version_minor": 0
      },
      "text/plain": [
       "FloatProgress(value=0.0, bar_style='info', description='Progress:', layout=Layout(height='25px', width='50%'),…"
      ]
     },
     "metadata": {},
     "output_type": "display_data"
    }
   ],
   "source": [
    "# invoice table\n",
    "scheme_dryrun = spark.read.format(\"jdbc\")\\\n",
    "                .option(\"url\", redshift_url) \\\n",
    "                .option(\"query\", \"\"\"\n",
    "                select *\n",
    "                from pidilite_test.scheme_factdryrundetails\n",
    "                \"\"\")\\\n",
    "                .option(\"user\", redshift_properties['user']) \\\n",
    "                .option(\"password\", redshift_properties['password']) \\\n",
    "                .load()\n",
    "\n",
    "scheme_master = spark.read.format(\"jdbc\")\\\n",
    "                .option(\"url\", redshift_url) \\\n",
    "                .option(\"query\", \"\"\"\n",
    "                select *\n",
    "                from pidilite_test.scheme_FactSecondary\n",
    "                \"\"\")\\\n",
    "                .option(\"user\", redshift_properties['user']) \\\n",
    "                .option(\"password\", redshift_properties['password']) \\\n",
    "                .load()\n",
    "\n",
    "modality = spark.read.format(\"jdbc\")\\\n",
    "                .option(\"url\", redshift_url) \\\n",
    "                .option(\"query\", \"\"\"\n",
    "                select *\n",
    "                from pidilite_test.Scheme_FactSecondaryModality\n",
    "                \"\"\")\\\n",
    "                .option(\"user\", redshift_properties['user']) \\\n",
    "                .option(\"password\", redshift_properties['password']) \\\n",
    "                .load()\n",
    "\n",
    "# dealer master\n",
    "dealer_master = spark.read.format(\"jdbc\")\\\n",
    "                .option(\"url\", redshift_url) \\\n",
    "                .option(\"query\", \"\"\"\n",
    "                select dealersgkey, deriveddealergroupcode\n",
    "                from pidilite_test.Dimdealer_MS\n",
    "                \"\"\")\\\n",
    "                .option(\"user\", redshift_properties['user']) \\\n",
    "                .option(\"password\", redshift_properties['password']) \\\n",
    "                .load()"
   ]
  },
  {
   "cell_type": "code",
   "execution_count": 11,
   "id": "60730bc2",
   "metadata": {},
   "outputs": [
    {
     "data": {
      "application/vnd.jupyter.widget-view+json": {
       "model_id": "61e6036e8b1c4ef2ab15c7472b95382a",
       "version_major": 2,
       "version_minor": 0
      },
      "text/plain": [
       "VBox()"
      ]
     },
     "metadata": {},
     "output_type": "display_data"
    },
    {
     "data": {
      "application/vnd.jupyter.widget-view+json": {
       "model_id": "",
       "version_major": 2,
       "version_minor": 0
      },
      "text/plain": [
       "FloatProgress(value=0.0, bar_style='info', description='Progress:', layout=Layout(height='25px', width='50%'),…"
      ]
     },
     "metadata": {},
     "output_type": "display_data"
    },
    {
     "name": "stdout",
     "output_type": "stream",
     "text": [
      "root\n",
      " |-- schemecode: long (nullable = true)\n",
      " |-- schemename: string (nullable = true)\n",
      " |-- startdate: timestamp (nullable = true)\n",
      " |-- enddate: timestamp (nullable = true)\n",
      " |-- customercode: string (nullable = true)\n",
      " |-- dealercode: string (nullable = true)\n",
      " |-- dealername: string (nullable = true)\n",
      " |-- cluster: string (nullable = true)\n",
      " |-- salesvolumely: decimal(18,2) (nullable = true)\n",
      " |-- salesvaluely: decimal(18,2) (nullable = true)\n",
      " |-- salesvolumecy: decimal(18,2) (nullable = true)\n",
      " |-- salesvaluecy: decimal(18,2) (nullable = true)\n",
      " |-- slab: integer (nullable = true)\n",
      " |-- growth: decimal(18,2) (nullable = true)\n",
      " |-- basepoints: decimal(18,2) (nullable = true)\n",
      " |-- bonuspoints: decimal(18,2) (nullable = true)\n",
      " |-- eligiblepoints: decimal(18,2) (nullable = true)\n",
      " |-- discounts: decimal(18,2) (nullable = true)\n",
      " |-- target: decimal(18,2) (nullable = true)\n",
      " |-- invoiceno: string (nullable = true)\n",
      " |-- giftitem: string (nullable = true)\n",
      " |-- giftquantity: decimal(18,2) (nullable = true)\n",
      " |-- modalitytype: string (nullable = true)\n",
      " |-- divisioncode: integer (nullable = true)\n",
      " |-- m1sales: decimal(18,2) (nullable = true)\n",
      " |-- m2sales: decimal(18,2) (nullable = true)\n",
      " |-- m3sales: decimal(18,2) (nullable = true)\n",
      " |-- giftvalue: decimal(18,2) (nullable = true)\n",
      " |-- salesgroupcode: string (nullable = true)\n",
      " |-- generateddate: timestamp (nullable = true)\n",
      " |-- createddatedw: timestamp (nullable = true)\n",
      " |-- updateddatedw: timestamp (nullable = true)\n",
      " |-- rs_created_date: timestamp (nullable = true)"
     ]
    }
   ],
   "source": [
    "scheme_dryrun.printSchema()"
   ]
  },
  {
   "cell_type": "code",
   "execution_count": 13,
   "id": "d7abe5b7",
   "metadata": {},
   "outputs": [
    {
     "data": {
      "application/vnd.jupyter.widget-view+json": {
       "model_id": "982e19cc8b534ebd8b6ff88f4a2e8e48",
       "version_major": 2,
       "version_minor": 0
      },
      "text/plain": [
       "VBox()"
      ]
     },
     "metadata": {},
     "output_type": "display_data"
    },
    {
     "data": {
      "application/vnd.jupyter.widget-view+json": {
       "model_id": "",
       "version_major": 2,
       "version_minor": 0
      },
      "text/plain": [
       "FloatProgress(value=0.0, bar_style='info', description='Progress:', layout=Layout(height='25px', width='50%'),…"
      ]
     },
     "metadata": {},
     "output_type": "display_data"
    },
    {
     "name": "stdout",
     "output_type": "stream",
     "text": [
      "root\n",
      " |-- dealersgkey: string (nullable = true)\n",
      " |-- deriveddealergroupcode: string (nullable = true)"
     ]
    }
   ],
   "source": [
    "dealer_master.printSchema()"
   ]
  },
  {
   "cell_type": "code",
   "execution_count": 14,
   "id": "d95cf216",
   "metadata": {},
   "outputs": [
    {
     "data": {
      "application/vnd.jupyter.widget-view+json": {
       "model_id": "2218b4f2e9604163a2f10ef16c144118",
       "version_major": 2,
       "version_minor": 0
      },
      "text/plain": [
       "VBox()"
      ]
     },
     "metadata": {},
     "output_type": "display_data"
    },
    {
     "data": {
      "application/vnd.jupyter.widget-view+json": {
       "model_id": "",
       "version_major": 2,
       "version_minor": 0
      },
      "text/plain": [
       "FloatProgress(value=0.0, bar_style='info', description='Progress:', layout=Layout(height='25px', width='50%'),…"
      ]
     },
     "metadata": {},
     "output_type": "display_data"
    },
    {
     "name": "stdout",
     "output_type": "stream",
     "text": [
      "datetime.datetime(2024, 5, 3, 0, 0)"
     ]
    }
   ],
   "source": [
    "current_yearmomnth"
   ]
  },
  {
   "cell_type": "code",
   "execution_count": 16,
   "id": "7de56479",
   "metadata": {},
   "outputs": [
    {
     "data": {
      "application/vnd.jupyter.widget-view+json": {
       "model_id": "315a07ff3d1642aa96bddb911c799b4f",
       "version_major": 2,
       "version_minor": 0
      },
      "text/plain": [
       "VBox()"
      ]
     },
     "metadata": {},
     "output_type": "display_data"
    },
    {
     "data": {
      "application/vnd.jupyter.widget-view+json": {
       "model_id": "",
       "version_major": 2,
       "version_minor": 0
      },
      "text/plain": [
       "FloatProgress(value=0.0, bar_style='info', description='Progress:', layout=Layout(height='25px', width='50%'),…"
      ]
     },
     "metadata": {},
     "output_type": "display_data"
    },
    {
     "name": "stdout",
     "output_type": "stream",
     "text": [
      "50345"
     ]
    }
   ],
   "source": [
    "# filter active schemes and salesgroupcode\n",
    "print(scheme_dryrun.count())\n",
    "scheme_dryrun = scheme_dryrun.filter((col(\"enddate\") >= current_yearmomnth))\n",
    "#scheme_dryrun = scheme_dryrun.filter((col(\"salesgroupcode\").isin(sales_group_to_filter)))"
   ]
  },
  {
   "cell_type": "code",
   "execution_count": 17,
   "id": "4e3a6c03",
   "metadata": {},
   "outputs": [
    {
     "data": {
      "application/vnd.jupyter.widget-view+json": {
       "model_id": "2f210c4c23184613aa1a121df8ddaa7b",
       "version_major": 2,
       "version_minor": 0
      },
      "text/plain": [
       "VBox()"
      ]
     },
     "metadata": {},
     "output_type": "display_data"
    },
    {
     "data": {
      "application/vnd.jupyter.widget-view+json": {
       "model_id": "",
       "version_major": 2,
       "version_minor": 0
      },
      "text/plain": [
       "FloatProgress(value=0.0, bar_style='info', description='Progress:', layout=Layout(height='25px', width='50%'),…"
      ]
     },
     "metadata": {},
     "output_type": "display_data"
    },
    {
     "name": "stdout",
     "output_type": "stream",
     "text": [
      "50345\n",
      "50255"
     ]
    }
   ],
   "source": [
    "# drop duplicates on dealer and scheme level in dry run table\n",
    "print(scheme_dryrun.count())\n",
    "scheme_dryrun= scheme_dryrun.dropDuplicates(['dealercode', 'schemecode'])\n",
    "print(scheme_dryrun.count())\n",
    "\n",
    "# select all required features in scheme dry run table\n",
    "scheme_dryrun= scheme_dryrun.select(['salesgroupcode', 'schemecode', 'customercode', 'dealercode', 'salesvolumely', 'salesvaluely', 'salesvolumecy', 'salesvaluecy', 'slab', 'growth', 'basepoints', 'bonuspoints', 'eligiblepoints', 'discounts'])"
   ]
  },
  {
   "cell_type": "code",
   "execution_count": 18,
   "id": "a9707b4f",
   "metadata": {},
   "outputs": [
    {
     "data": {
      "application/vnd.jupyter.widget-view+json": {
       "model_id": "852890d484e34cf3804f552749ec9635",
       "version_major": 2,
       "version_minor": 0
      },
      "text/plain": [
       "VBox()"
      ]
     },
     "metadata": {},
     "output_type": "display_data"
    },
    {
     "data": {
      "application/vnd.jupyter.widget-view+json": {
       "model_id": "",
       "version_major": 2,
       "version_minor": 0
      },
      "text/plain": [
       "FloatProgress(value=0.0, bar_style='info', description='Progress:', layout=Layout(height='25px', width='50%'),…"
      ]
     },
     "metadata": {},
     "output_type": "display_data"
    },
    {
     "name": "stdout",
     "output_type": "stream",
     "text": [
      "50255"
     ]
    }
   ],
   "source": [
    "# drop duplicates on other tables to merge on dry run table\n",
    "scheme_master= scheme_master.dropDuplicates()\n",
    "modality= modality.dropDuplicates(['id', 'slabno', 'modalityto'])\n",
    "\n",
    "# merge scheme master for operated ON info, Modality target from Modality table\n",
    "scheme_dryrun= scheme_dryrun.join(scheme_master.select(['id', 'fromdate', 'todate', 'operatedon', 'schemetitle']), scheme_master.id== scheme_dryrun.schemecode , 'left')\n",
    "scheme_dryrun= scheme_dryrun.join(modality.select(['id', 'slabno', 'modalityto']), (scheme_dryrun.schemecode== modality.id) & (scheme_dryrun.slab== modality.slabno), how= 'left')\n",
    "\n",
    "print(scheme_dryrun.count())"
   ]
  },
  {
   "cell_type": "code",
   "execution_count": 21,
   "id": "df62af4f",
   "metadata": {},
   "outputs": [
    {
     "data": {
      "application/vnd.jupyter.widget-view+json": {
       "model_id": "04f25df9157f4c55883cd8075f04c634",
       "version_major": 2,
       "version_minor": 0
      },
      "text/plain": [
       "VBox()"
      ]
     },
     "metadata": {},
     "output_type": "display_data"
    },
    {
     "data": {
      "application/vnd.jupyter.widget-view+json": {
       "model_id": "",
       "version_major": 2,
       "version_minor": 0
      },
      "text/plain": [
       "FloatProgress(value=0.0, bar_style='info', description='Progress:', layout=Layout(height='25px', width='50%'),…"
      ]
     },
     "metadata": {},
     "output_type": "display_data"
    }
   ],
   "source": [
    "# create derived columns\n",
    "scheme_dryrun= scheme_dryrun.withColumn(\"UpperThresholdOfSlabVal\", when((col(\"operatedon\")== \"Value\"), col('modalityto'))) \\\n",
    "                            .withColumn(\"UpperThresholdOfSlabVol\", when((col(\"operatedon\")!= \"Value\"), col('modalityto')))\\\n",
    "                            .withColumn(\"Target\", when((col(\"operatedon\")== \"Value\"), col('UpperThresholdOfSlabVal')- col('salesvaluecy')).otherwise(col('UpperThresholdOfSlabVol')- col('salesvolumecy')))\\\n",
    "                            .withColumn(\"duration\", datediff(col('todate'), col('fromdate')))\\\n",
    "                            .withColumn(\"ActiveRecommendation\", when(col('Target')>0 , 1).otherwise(0))\\\n",
    "                            .withColumn('Activity', lit('Scheme'))\\\n",
    "                            .withColumn('dealersgkey', concat(col('dealercode'), col('salesgroupcode')))"
   ]
  },
  {
   "cell_type": "code",
   "execution_count": 22,
   "id": "0e8fe790",
   "metadata": {},
   "outputs": [
    {
     "data": {
      "application/vnd.jupyter.widget-view+json": {
       "model_id": "9896e4032e1249ddbc09558d066ad8c0",
       "version_major": 2,
       "version_minor": 0
      },
      "text/plain": [
       "VBox()"
      ]
     },
     "metadata": {},
     "output_type": "display_data"
    },
    {
     "data": {
      "application/vnd.jupyter.widget-view+json": {
       "model_id": "",
       "version_major": 2,
       "version_minor": 0
      },
      "text/plain": [
       "FloatProgress(value=0.0, bar_style='info', description='Progress:', layout=Layout(height='25px', width='50%'),…"
      ]
     },
     "metadata": {},
     "output_type": "display_data"
    },
    {
     "name": "stdout",
     "output_type": "stream",
     "text": [
      "50255"
     ]
    }
   ],
   "source": [
    "'''\n",
    "Update target- where the dealer is in last slab and upper threshold is not defined- placeholder values present in modality table\n",
    "Condition checks:\n",
    "1. check if upper threshold >80000    OR\n",
    "2. Slab is undefined                 OR\n",
    "1. If all 9's before decimal or otherwise + no of 9's before decimal >5 + achievement <50% of upper threshold\n",
    "\n",
    "Modify target in those data points- 20% of current achivement\n",
    "\n",
    "'''\n",
    "\n",
    "scheme_dryrun = scheme_dryrun.withColumn(\"Target\",\n",
    "    when(((col(\"operatedon\") == \"Value\") & (col('UpperThresholdOfSlabVal')>= 80000)) |\n",
    "         ((col(\"operatedon\") == \"Value\") &  (col('Slab').isNull())) |\n",
    "         ((col(\"operatedon\") == \"Value\") & \n",
    "          (length(regexp_replace(split(col('UpperThresholdOfSlabVal').cast('string'), '\\.').getItem(0), \"[^9]\", \"\")) == length(split(col('UpperThresholdOfSlabVal').cast('string'), '\\.').getItem(0))) & \n",
    "          (length(split(col('UpperThresholdOfSlabVal').cast('string'), '\\.').getItem(0))> 5) &\n",
    "          (col('salesvaluecy') <= 0.5 * col('UpperThresholdOfSlabVal'))),\n",
    "         0.2 * col('salesvaluecy')\n",
    "    )\n",
    "    .when(((col(\"operatedon\") != \"Value\") & (col('UpperThresholdOfSlabVol')>= 80000)) |\n",
    "          ((col(\"operatedon\") != \"Value\") & (col('Slab').isNull())) |\n",
    "          ((col(\"operatedon\") != \"Value\") & \n",
    "           (length(regexp_replace(split(col('UpperThresholdOfSlabVol').cast('string'), '\\.').getItem(0), \"[^9]\", \"\")) == length(split(col('UpperThresholdOfSlabVol').cast('string'), '\\.').getItem(0))) & \n",
    "           (length(split(col('UpperThresholdOfSlabVol').cast('string'), '\\.').getItem(0))> 5) &\n",
    "           (col('salesvolumecy') <= 0.5 * col('UpperThresholdOfSlabVol'))), \n",
    "        0.2 * col('salesvolumecy')\n",
    "     )\n",
    "    .otherwise(col('Target'))\n",
    ")\n",
    "print(scheme_dryrun.count())"
   ]
  },
  {
   "cell_type": "code",
   "execution_count": 23,
   "id": "eae41be1",
   "metadata": {},
   "outputs": [
    {
     "data": {
      "application/vnd.jupyter.widget-view+json": {
       "model_id": "6763e39235b248538ed4f0596dc93226",
       "version_major": 2,
       "version_minor": 0
      },
      "text/plain": [
       "VBox()"
      ]
     },
     "metadata": {},
     "output_type": "display_data"
    },
    {
     "data": {
      "application/vnd.jupyter.widget-view+json": {
       "model_id": "",
       "version_major": 2,
       "version_minor": 0
      },
      "text/plain": [
       "FloatProgress(value=0.0, bar_style='info', description='Progress:', layout=Layout(height='25px', width='50%'),…"
      ]
     },
     "metadata": {},
     "output_type": "display_data"
    }
   ],
   "source": [
    "# even if now some high target, then cap target at 300% of current achievement\n",
    "scheme_dryrun= scheme_dryrun.withColumn('Target', when((col(\"operatedon\") == \"Value\") &\n",
    "                                                       (col('Target')> target_cap_n_times*col('salesvaluecy')),\n",
    "                                                       target_cap_n_times*col('salesvaluecy')\n",
    "                                                      )\n",
    "                                                .when((col(\"operatedon\") != \"Value\") &\n",
    "                                                       (col('Target')> target_cap_n_times*col('salesvolumecy')),\n",
    "                                                       target_cap_n_times*col('salesvolumecy')\n",
    "                                                      )\n",
    "                                                .otherwise(col('Target'))\n",
    "                                       )"
   ]
  },
  {
   "cell_type": "code",
   "execution_count": 24,
   "id": "b83f24c8",
   "metadata": {},
   "outputs": [
    {
     "data": {
      "application/vnd.jupyter.widget-view+json": {
       "model_id": "a5d2792dddd14b098a139252e7b5b4d7",
       "version_major": 2,
       "version_minor": 0
      },
      "text/plain": [
       "VBox()"
      ]
     },
     "metadata": {},
     "output_type": "display_data"
    },
    {
     "data": {
      "application/vnd.jupyter.widget-view+json": {
       "model_id": "",
       "version_major": 2,
       "version_minor": 0
      },
      "text/plain": [
       "FloatProgress(value=0.0, bar_style='info', description='Progress:', layout=Layout(height='25px', width='50%'),…"
      ]
     },
     "metadata": {},
     "output_type": "display_data"
    },
    {
     "name": "stdout",
     "output_type": "stream",
     "text": [
      "50255"
     ]
    }
   ],
   "source": [
    "scheme_dryrun= scheme_dryrun.drop(*['modalityto', 'id', 'slabno'])\n",
    "print(scheme_dryrun.count())"
   ]
  },
  {
   "cell_type": "code",
   "execution_count": 25,
   "id": "8bfb0beb",
   "metadata": {},
   "outputs": [
    {
     "data": {
      "application/vnd.jupyter.widget-view+json": {
       "model_id": "9e695c1a45d74fc797bb4aff9b694c66",
       "version_major": 2,
       "version_minor": 0
      },
      "text/plain": [
       "VBox()"
      ]
     },
     "metadata": {},
     "output_type": "display_data"
    },
    {
     "data": {
      "application/vnd.jupyter.widget-view+json": {
       "model_id": "",
       "version_major": 2,
       "version_minor": 0
      },
      "text/plain": [
       "FloatProgress(value=0.0, bar_style='info', description='Progress:', layout=Layout(height='25px', width='50%'),…"
      ]
     },
     "metadata": {},
     "output_type": "display_data"
    },
    {
     "name": "stdout",
     "output_type": "stream",
     "text": [
      "+--------------+\n",
      "|salesgroupcode|\n",
      "+--------------+\n",
      "|           401|\n",
      "|           301|\n",
      "|           302|\n",
      "|           111|\n",
      "|           105|\n",
      "|           201|\n",
      "|           406|\n",
      "|           107|\n",
      "+--------------+"
     ]
    }
   ],
   "source": [
    "scheme_dryrun.select('salesgroupcode').distinct().show()"
   ]
  },
  {
   "cell_type": "code",
   "execution_count": 26,
   "id": "2bcefa24",
   "metadata": {},
   "outputs": [
    {
     "data": {
      "application/vnd.jupyter.widget-view+json": {
       "model_id": "188d0a8db6f74dee9bd71f5397dc9dc1",
       "version_major": 2,
       "version_minor": 0
      },
      "text/plain": [
       "VBox()"
      ]
     },
     "metadata": {},
     "output_type": "display_data"
    },
    {
     "data": {
      "application/vnd.jupyter.widget-view+json": {
       "model_id": "",
       "version_major": 2,
       "version_minor": 0
      },
      "text/plain": [
       "FloatProgress(value=0.0, bar_style='info', description='Progress:', layout=Layout(height='25px', width='50%'),…"
      ]
     },
     "metadata": {},
     "output_type": "display_data"
    },
    {
     "name": "stdout",
     "output_type": "stream",
     "text": [
      "50255"
     ]
    }
   ],
   "source": [
    "scheme_dryrun= scheme_dryrun.join(dealer_master, on=['dealersgkey'], how= 'left')\n",
    "scheme_dryrun.count()"
   ]
  },
  {
   "cell_type": "code",
   "execution_count": 27,
   "id": "8c6f37cf",
   "metadata": {},
   "outputs": [
    {
     "data": {
      "application/vnd.jupyter.widget-view+json": {
       "model_id": "990faaba4b274c779d7b1d6677cf7f26",
       "version_major": 2,
       "version_minor": 0
      },
      "text/plain": [
       "VBox()"
      ]
     },
     "metadata": {},
     "output_type": "display_data"
    },
    {
     "data": {
      "application/vnd.jupyter.widget-view+json": {
       "model_id": "",
       "version_major": 2,
       "version_minor": 0
      },
      "text/plain": [
       "FloatProgress(value=0.0, bar_style='info', description='Progress:', layout=Layout(height='25px', width='50%'),…"
      ]
     },
     "metadata": {},
     "output_type": "display_data"
    },
    {
     "name": "stdout",
     "output_type": "stream",
     "text": [
      "+--------------+\n",
      "|salesgroupcode|\n",
      "+--------------+\n",
      "|           401|\n",
      "|           301|\n",
      "|           302|\n",
      "|           111|\n",
      "|           105|\n",
      "|           201|\n",
      "|           406|\n",
      "|           107|\n",
      "+--------------+"
     ]
    }
   ],
   "source": [
    "scheme_dryrun.select('salesgroupcode').distinct().show()"
   ]
  },
  {
   "cell_type": "code",
   "execution_count": 28,
   "id": "c3a9224c",
   "metadata": {},
   "outputs": [
    {
     "data": {
      "application/vnd.jupyter.widget-view+json": {
       "model_id": "278db726c4a74d8c98bc869bba8c36b8",
       "version_major": 2,
       "version_minor": 0
      },
      "text/plain": [
       "VBox()"
      ]
     },
     "metadata": {},
     "output_type": "display_data"
    },
    {
     "data": {
      "application/vnd.jupyter.widget-view+json": {
       "model_id": "",
       "version_major": 2,
       "version_minor": 0
      },
      "text/plain": [
       "FloatProgress(value=0.0, bar_style='info', description='Progress:', layout=Layout(height='25px', width='50%'),…"
      ]
     },
     "metadata": {},
     "output_type": "display_data"
    }
   ],
   "source": [
    "# Scheme Priority\n",
    "scheme_dryrun= scheme_dryrun.withColumn(\"percent\", when((col(\"operatedon\")== \"Value\"), round(col('Target')/col('salesvaluecy'), 4)).otherwise(round(col('Target')/col('salesvolumecy'), 4)))\n",
    "\n",
    "window_spec = Window.partitionBy(\"dealersgkey\").orderBy(col(\"percent\").desc())\n",
    "\n",
    "scheme_dryrun = scheme_dryrun.withColumn(\"SchemePriority\", row_number().over(window_spec))"
   ]
  },
  {
   "cell_type": "code",
   "execution_count": 29,
   "id": "a49c41b5",
   "metadata": {},
   "outputs": [
    {
     "data": {
      "application/vnd.jupyter.widget-view+json": {
       "model_id": "6740ba993d174173a5f3cac5fe48df28",
       "version_major": 2,
       "version_minor": 0
      },
      "text/plain": [
       "VBox()"
      ]
     },
     "metadata": {},
     "output_type": "display_data"
    },
    {
     "data": {
      "application/vnd.jupyter.widget-view+json": {
       "model_id": "",
       "version_major": 2,
       "version_minor": 0
      },
      "text/plain": [
       "FloatProgress(value=0.0, bar_style='info', description='Progress:', layout=Layout(height='25px', width='50%'),…"
      ]
     },
     "metadata": {},
     "output_type": "display_data"
    }
   ],
   "source": [
    "# Rename columns\n",
    "scheme_rename_dict= {\n",
    "'schemecode': 'SchemeCode',\n",
    "'schemetitle': 'SchemeTitle',\n",
    "'fromdate': 'StartDate',\n",
    "'todate': 'EndDate',\n",
    "'customercode': 'CustomerCode',\n",
    "'deriveddealergroupcode': 'DealerGroupCode',\n",
    "'dealersgkey': 'DealerSGCode',\n",
    "'salesgroupcode': 'SalesGroupCode',\n",
    "'dealercode': 'DealerCode',\n",
    "'salesvolumely': 'SalesVolumeLY',\n",
    "'salesvaluely': 'SalesValueLY',\n",
    "'salesvolumecy': 'SalesVolumeCY',\n",
    "'salesvaluecy': 'SalesValueCY',\n",
    "'slab': 'Slab',\n",
    "'growth': 'Growth',\n",
    "'basepoints': 'BasePoints',\n",
    "'bonuspoints': 'BonusPoints',\n",
    "'eligiblepoints': 'EligiblePoints',\n",
    "'discounts': 'Discounts',\n",
    "'duration': 'Duration',\n",
    "'operatedon': 'OperatedON'\n",
    "}\n",
    "\n",
    "for old_col, new_col in scheme_rename_dict.items():\n",
    "    scheme_dryrun= scheme_dryrun.withColumnRenamed(old_col, new_col)"
   ]
  },
  {
   "cell_type": "code",
   "execution_count": 30,
   "id": "787335f1",
   "metadata": {},
   "outputs": [
    {
     "data": {
      "application/vnd.jupyter.widget-view+json": {
       "model_id": "0855fad317df42cf82d23555d61331b7",
       "version_major": 2,
       "version_minor": 0
      },
      "text/plain": [
       "VBox()"
      ]
     },
     "metadata": {},
     "output_type": "display_data"
    },
    {
     "data": {
      "application/vnd.jupyter.widget-view+json": {
       "model_id": "",
       "version_major": 2,
       "version_minor": 0
      },
      "text/plain": [
       "FloatProgress(value=0.0, bar_style='info', description='Progress:', layout=Layout(height='25px', width='50%'),…"
      ]
     },
     "metadata": {},
     "output_type": "display_data"
    }
   ],
   "source": [
    "# Approximate decimal columns to nearest place 2\n",
    "scheme_dryrun = scheme_dryrun.withColumn(\"SalesVolumeLY\", round(col(\"SalesVolumeLY\"), 2))\\\n",
    "                            .withColumn(\"SalesValueLY\", round(col(\"SalesValueLY\"), 2))\\\n",
    "                            .withColumn(\"SalesVolumeCY\", round(col(\"SalesVolumeCY\"), 2))\\\n",
    "                            .withColumn(\"SalesValueCY\", round(col(\"SalesValueCY\"), 2))\\\n",
    "                            .withColumn(\"Growth\", round(col(\"Growth\"), 2))\\\n",
    "                            .withColumn(\"BasePoints\", round(col(\"BasePoints\"), 2))\\\n",
    "                            .withColumn(\"BonusPoints\", round(col(\"BonusPoints\"), 2))\\\n",
    "                            .withColumn(\"EligiblePoints\", round(col(\"EligiblePoints\"), 2))\\\n",
    "                            .withColumn(\"Discounts\", round(col(\"Discounts\"), 2))\\\n",
    "                            .withColumn(\"UpperThresholdOfSlabVal\", round(col(\"UpperThresholdOfSlabVal\"), 2))\\\n",
    "                            .withColumn(\"UpperThresholdOfSlabVol\", round(col(\"UpperThresholdOfSlabVol\"), 2))\\\n",
    "                            .withColumn(\"Target\", round(col(\"Target\"), 2))"
   ]
  },
  {
   "cell_type": "code",
   "execution_count": 31,
   "id": "70700ffd",
   "metadata": {},
   "outputs": [
    {
     "data": {
      "application/vnd.jupyter.widget-view+json": {
       "model_id": "b8ce04fff6804436965a426a1488f498",
       "version_major": 2,
       "version_minor": 0
      },
      "text/plain": [
       "VBox()"
      ]
     },
     "metadata": {},
     "output_type": "display_data"
    },
    {
     "data": {
      "application/vnd.jupyter.widget-view+json": {
       "model_id": "",
       "version_major": 2,
       "version_minor": 0
      },
      "text/plain": [
       "FloatProgress(value=0.0, bar_style='info', description='Progress:', layout=Layout(height='25px', width='50%'),…"
      ]
     },
     "metadata": {},
     "output_type": "display_data"
    },
    {
     "name": "stdout",
     "output_type": "stream",
     "text": [
      "+--------------+\n",
      "|salesgroupcode|\n",
      "+--------------+\n",
      "|           401|\n",
      "|           301|\n",
      "|           302|\n",
      "|           111|\n",
      "|           105|\n",
      "|           201|\n",
      "|           406|\n",
      "|           107|\n",
      "+--------------+"
     ]
    }
   ],
   "source": [
    "scheme_dryrun.select('salesgroupcode').distinct().show()"
   ]
  },
  {
   "cell_type": "code",
   "execution_count": 32,
   "id": "98b12eee",
   "metadata": {},
   "outputs": [
    {
     "data": {
      "application/vnd.jupyter.widget-view+json": {
       "model_id": "840a6fff59fa4af199c5afbe445b10ff",
       "version_major": 2,
       "version_minor": 0
      },
      "text/plain": [
       "VBox()"
      ]
     },
     "metadata": {},
     "output_type": "display_data"
    },
    {
     "data": {
      "application/vnd.jupyter.widget-view+json": {
       "model_id": "",
       "version_major": 2,
       "version_minor": 0
      },
      "text/plain": [
       "FloatProgress(value=0.0, bar_style='info', description='Progress:', layout=Layout(height='25px', width='50%'),…"
      ]
     },
     "metadata": {},
     "output_type": "display_data"
    }
   ],
   "source": [
    "# Update load columns\n",
    "\n",
    "load_quarter = (current_yearmomnth.month - 1) // 3 + 4 if current_yearmomnth.month in [1, 2, 3] else (current_yearmomnth.month - 1) // 3\n",
    "load_year= (current_yearmomnth.year) if current_yearmomnth.month in [1, 2, 3] else current_yearmomnth.year + 1\n",
    "\n",
    "scheme_dryrun= scheme_dryrun.withColumn('LoadQtr', concat(lit(load_year), lit('Q'), lit(load_quarter)))\\\n",
    "                            .withColumn('LoadMnth', lit(current_yearmomnth.month))\\\n",
    "                            .withColumn('LoadWeekNum', lit(current_yearmomnth.isocalendar()[1]))\\\n",
    "                            .withColumn('LoadFreq', lit('Weekly'))\\\n",
    "                            .withColumn('LoadDate', lit(current_yearmomnth))\\\n",
    "                            .withColumn('LoadDate', date_format(col('LoadDate'), 'yyyy-MM-dd 12:00:00.000000'))"
   ]
  },
  {
   "cell_type": "code",
   "execution_count": 33,
   "id": "44b31efa",
   "metadata": {},
   "outputs": [
    {
     "data": {
      "application/vnd.jupyter.widget-view+json": {
       "model_id": "9742ff56fee14c738f58a8954ab2833a",
       "version_major": 2,
       "version_minor": 0
      },
      "text/plain": [
       "VBox()"
      ]
     },
     "metadata": {},
     "output_type": "display_data"
    },
    {
     "data": {
      "application/vnd.jupyter.widget-view+json": {
       "model_id": "",
       "version_major": 2,
       "version_minor": 0
      },
      "text/plain": [
       "FloatProgress(value=0.0, bar_style='info', description='Progress:', layout=Layout(height='25px', width='50%'),…"
      ]
     },
     "metadata": {},
     "output_type": "display_data"
    }
   ],
   "source": [
    "# Final order of columns\n",
    "scheme_dryrun= scheme_dryrun.select('SchemeCode', 'SchemeTitle', 'StartDate', 'EndDate', 'CustomerCode', 'DealerGroupCode', 'DealerSGCode', 'SalesGroupCode', 'DealerCode', 'SalesVolumeLY', 'SalesValueLY', 'SalesVolumeCY', 'SalesValueCY', 'Slab', 'UpperThresholdOfSlabVol', 'UpperThresholdOfSlabVal', 'Target', 'Growth', 'BasePoints', 'BonusPoints', 'EligiblePoints', 'Discounts', 'Duration', 'OperatedON', 'SchemePriority', 'ActiveRecommendation', 'Activity', 'LoadQtr', 'LoadMnth', 'LoadWeekNum', 'LoadFreq', 'LoadDate')"
   ]
  },
  {
   "cell_type": "code",
   "execution_count": 34,
   "id": "eba7368a",
   "metadata": {},
   "outputs": [
    {
     "data": {
      "application/vnd.jupyter.widget-view+json": {
       "model_id": "38c12a3cbcaf464680e383f2f288a1cd",
       "version_major": 2,
       "version_minor": 0
      },
      "text/plain": [
       "VBox()"
      ]
     },
     "metadata": {},
     "output_type": "display_data"
    },
    {
     "data": {
      "application/vnd.jupyter.widget-view+json": {
       "model_id": "",
       "version_major": 2,
       "version_minor": 0
      },
      "text/plain": [
       "FloatProgress(value=0.0, bar_style='info', description='Progress:', layout=Layout(height='25px', width='50%'),…"
      ]
     },
     "metadata": {},
     "output_type": "display_data"
    },
    {
     "name": "stdout",
     "output_type": "stream",
     "text": [
      "+----------+--------------------+-------------------+-------------------+------------+---------------+------------+--------------+----------+-------------+------------+-------------+------------+----+-----------------------+-----------------------+------+------+----------+-----------+--------------+---------+--------+----------+--------------+--------------------+--------+-------+--------+-----------+--------+--------------------+\n",
      "|SchemeCode|         SchemeTitle|          StartDate|            EndDate|CustomerCode|DealerGroupCode|DealerSGCode|SalesGroupCode|DealerCode|SalesVolumeLY|SalesValueLY|SalesVolumeCY|SalesValueCY|Slab|UpperThresholdOfSlabVol|UpperThresholdOfSlabVal|Target|Growth|BasePoints|BonusPoints|EligiblePoints|Discounts|Duration|OperatedON|SchemePriority|ActiveRecommendation|Activity|LoadQtr|LoadMnth|LoadWeekNum|LoadFreq|            LoadDate|\n",
      "+----------+--------------------+-------------------+-------------------+------------+---------------+------------+--------------+----------+-------------+------------+-------------+------------+----+-----------------------+-----------------------+------+------+----------+-----------+--------------+---------+--------+----------+--------------+--------------------+--------+-------+--------+-----------+--------+--------------------+\n",
      "|    317343|Wudfin 1 K PU Foc...|2024-04-01 00:00:00|2024-06-30 00:00:00|     1043418|         1A0412|   1A0412105|           105|    1A0412|         0.00|        0.00|         1.00|      375.00|   5|                  99.99|                   null|   3.0|  0.00|      0.00|       0.00|         16.00|     0.00|      90|    Volume|             1|                   1|  Scheme| 2024Q1|       5|         18|  Weekly|2024-05-03 12:00:...|\n",
      "+----------+--------------------+-------------------+-------------------+------------+---------------+------------+--------------+----------+-------------+------------+-------------+------------+----+-----------------------+-----------------------+------+------+----------+-----------+--------------+---------+--------+----------+--------------+--------------------+--------+-------+--------+-----------+--------+--------------------+\n",
      "only showing top 1 row"
     ]
    }
   ],
   "source": [
    "scheme_dryrun.show(1)"
   ]
  },
  {
   "cell_type": "code",
   "execution_count": 35,
   "id": "a13b3ea2",
   "metadata": {},
   "outputs": [
    {
     "data": {
      "application/vnd.jupyter.widget-view+json": {
       "model_id": "7198057239294b09a2ef578260ff4f2f",
       "version_major": 2,
       "version_minor": 0
      },
      "text/plain": [
       "VBox()"
      ]
     },
     "metadata": {},
     "output_type": "display_data"
    },
    {
     "data": {
      "application/vnd.jupyter.widget-view+json": {
       "model_id": "",
       "version_major": 2,
       "version_minor": 0
      },
      "text/plain": [
       "FloatProgress(value=0.0, bar_style='info', description='Progress:', layout=Layout(height='25px', width='50%'),…"
      ]
     },
     "metadata": {},
     "output_type": "display_data"
    },
    {
     "name": "stdout",
     "output_type": "stream",
     "text": [
      "+--------------+\n",
      "|salesgroupcode|\n",
      "+--------------+\n",
      "|           401|\n",
      "|           301|\n",
      "|           302|\n",
      "|           111|\n",
      "|           105|\n",
      "|           201|\n",
      "|           406|\n",
      "|           107|\n",
      "+--------------+"
     ]
    }
   ],
   "source": [
    "scheme_dryrun.select('salesgroupcode').distinct().show()"
   ]
  },
  {
   "cell_type": "markdown",
   "id": "8878826e",
   "metadata": {},
   "source": [
    "<h3> Dtype conversion"
   ]
  },
  {
   "cell_type": "code",
   "execution_count": 36,
   "id": "93f86784",
   "metadata": {},
   "outputs": [
    {
     "data": {
      "application/vnd.jupyter.widget-view+json": {
       "model_id": "be3d59a2e5cf4210b3c0f5f546cebfdb",
       "version_major": 2,
       "version_minor": 0
      },
      "text/plain": [
       "VBox()"
      ]
     },
     "metadata": {},
     "output_type": "display_data"
    },
    {
     "data": {
      "application/vnd.jupyter.widget-view+json": {
       "model_id": "",
       "version_major": 2,
       "version_minor": 0
      },
      "text/plain": [
       "FloatProgress(value=0.0, bar_style='info', description='Progress:', layout=Layout(height='25px', width='50%'),…"
      ]
     },
     "metadata": {},
     "output_type": "display_data"
    }
   ],
   "source": [
    "from pyspark.sql import types as T\n",
    "scheme_schema = T.StructType([\n",
    "    T.StructField(\"SchemeCode\", T.IntegerType(), False),\n",
    "    T.StructField(\"SchemeTitle\", T.StringType(), False),\n",
    "    T.StructField(\"StartDate\", T.StringType(), False),\n",
    "    T.StructField(\"EndDate\", T.StringType(), False),\n",
    "    T.StructField(\"CustomerCode\", T.IntegerType(), False),\n",
    "    T.StructField(\"DealerGroupCode\", T.StringType(), False),\n",
    "    T.StructField(\"DealerSGCode\", T.StringType(), False),\n",
    "    T.StructField(\"SalesGroupCode\", T.StringType(), False),\n",
    "    T.StructField(\"DealerCode\", T.StringType(), False),\n",
    "    T.StructField(\"SalesVolumeLY\", T.DecimalType(18,2), False),\n",
    "    T.StructField(\"SalesValueLY\", T.DecimalType(18,2), False),\n",
    "    T.StructField(\"SalesVolumeCY\", T.DecimalType(18,2), False),\n",
    "    T.StructField(\"SalesValueCY\", T.DecimalType(18,2), False),\n",
    "    T.StructField(\"Slab\", T.IntegerType(), False),\n",
    "    T.StructField(\"UpperThresholdOfSlabVol\", T.DecimalType(18,2), False),\n",
    "     T.StructField(\"UpperThresholdOfSlabVal\", T.DecimalType(18,2), False),\n",
    "     T.StructField(\"Target\", T.DecimalType(18,2), False),\n",
    "     T.StructField(\"Growth\", T.DecimalType(18,2), False),\n",
    "     T.StructField(\"BasePoints\", T.DecimalType(18,2), False),\n",
    "     T.StructField(\"BonusPoints\", T.DecimalType(18,2), False),\n",
    "     T.StructField(\"EligiblePoints\", T.DecimalType(18,2), False),\n",
    "     T.StructField(\"Discounts\", T.DecimalType(18,2), False),\n",
    "    T.StructField(\"Duration\", T.IntegerType(), False),\n",
    "    T.StructField(\"OperatedON\", T.StringType(), False),\n",
    "    T.StructField(\"SchemePriority\", T.IntegerType(), False),\n",
    "    T.StructField(\"ActiveRecommendation\", T.IntegerType(), False),\n",
    "    T.StructField(\"Activity\", T.StringType(), False),\n",
    "    T.StructField(\"LoadQtr\", T.StringType(), False),\n",
    "    T.StructField(\"LoadMnth\", T.IntegerType(), False),\n",
    "    T.StructField(\"LoadWeekNum\", T.IntegerType(), False),\n",
    "    T.StructField(\"LoadFreq\", T.StringType(), False),\n",
    "    T.StructField(\"LoadDate\", T.StringType(), False)\n",
    "])"
   ]
  },
  {
   "cell_type": "code",
   "execution_count": 37,
   "id": "99077e43",
   "metadata": {},
   "outputs": [
    {
     "data": {
      "application/vnd.jupyter.widget-view+json": {
       "model_id": "70ba5237ac76460ab6a9bfbb91189d2c",
       "version_major": 2,
       "version_minor": 0
      },
      "text/plain": [
       "VBox()"
      ]
     },
     "metadata": {},
     "output_type": "display_data"
    },
    {
     "data": {
      "application/vnd.jupyter.widget-view+json": {
       "model_id": "",
       "version_major": 2,
       "version_minor": 0
      },
      "text/plain": [
       "FloatProgress(value=0.0, bar_style='info', description='Progress:', layout=Layout(height='25px', width='50%'),…"
      ]
     },
     "metadata": {},
     "output_type": "display_data"
    }
   ],
   "source": [
    "for field in scheme_schema.fields:\n",
    "    scheme_dryrun = scheme_dryrun.withColumn(field.name, scheme_dryrun[field.name].cast(field.dataType))"
   ]
  },
  {
   "cell_type": "code",
   "execution_count": 38,
   "id": "8c698d44",
   "metadata": {},
   "outputs": [
    {
     "data": {
      "application/vnd.jupyter.widget-view+json": {
       "model_id": "4b28d65726694f99a15355abaf9b05f4",
       "version_major": 2,
       "version_minor": 0
      },
      "text/plain": [
       "VBox()"
      ]
     },
     "metadata": {},
     "output_type": "display_data"
    },
    {
     "data": {
      "application/vnd.jupyter.widget-view+json": {
       "model_id": "",
       "version_major": 2,
       "version_minor": 0
      },
      "text/plain": [
       "FloatProgress(value=0.0, bar_style='info', description='Progress:', layout=Layout(height='25px', width='50%'),…"
      ]
     },
     "metadata": {},
     "output_type": "display_data"
    },
    {
     "name": "stdout",
     "output_type": "stream",
     "text": [
      "root\n",
      " |-- SchemeCode: integer (nullable = true)\n",
      " |-- SchemeTitle: string (nullable = true)\n",
      " |-- StartDate: string (nullable = true)\n",
      " |-- EndDate: string (nullable = true)\n",
      " |-- CustomerCode: integer (nullable = true)\n",
      " |-- DealerGroupCode: string (nullable = true)\n",
      " |-- DealerSGCode: string (nullable = true)\n",
      " |-- SalesGroupCode: string (nullable = true)\n",
      " |-- DealerCode: string (nullable = true)\n",
      " |-- SalesVolumeLY: decimal(18,2) (nullable = true)\n",
      " |-- SalesValueLY: decimal(18,2) (nullable = true)\n",
      " |-- SalesVolumeCY: decimal(18,2) (nullable = true)\n",
      " |-- SalesValueCY: decimal(18,2) (nullable = true)\n",
      " |-- Slab: integer (nullable = true)\n",
      " |-- UpperThresholdOfSlabVol: decimal(18,2) (nullable = true)\n",
      " |-- UpperThresholdOfSlabVal: decimal(18,2) (nullable = true)\n",
      " |-- Target: decimal(18,2) (nullable = true)\n",
      " |-- Growth: decimal(18,2) (nullable = true)\n",
      " |-- BasePoints: decimal(18,2) (nullable = true)\n",
      " |-- BonusPoints: decimal(18,2) (nullable = true)\n",
      " |-- EligiblePoints: decimal(18,2) (nullable = true)\n",
      " |-- Discounts: decimal(18,2) (nullable = true)\n",
      " |-- Duration: integer (nullable = true)\n",
      " |-- OperatedON: string (nullable = true)\n",
      " |-- SchemePriority: integer (nullable = false)\n",
      " |-- ActiveRecommendation: integer (nullable = false)\n",
      " |-- Activity: string (nullable = false)\n",
      " |-- LoadQtr: string (nullable = false)\n",
      " |-- LoadMnth: integer (nullable = false)\n",
      " |-- LoadWeekNum: integer (nullable = false)\n",
      " |-- LoadFreq: string (nullable = false)\n",
      " |-- LoadDate: string (nullable = false)"
     ]
    }
   ],
   "source": [
    "scheme_dryrun.printSchema()"
   ]
  },
  {
   "cell_type": "markdown",
   "id": "37c57079",
   "metadata": {},
   "source": [
    "<h3> Check nulls"
   ]
  },
  {
   "cell_type": "code",
   "execution_count": 39,
   "id": "1efc1c29",
   "metadata": {},
   "outputs": [
    {
     "data": {
      "application/vnd.jupyter.widget-view+json": {
       "model_id": "f2009c00a78c4efab390d9a1aad190c5",
       "version_major": 2,
       "version_minor": 0
      },
      "text/plain": [
       "VBox()"
      ]
     },
     "metadata": {},
     "output_type": "display_data"
    },
    {
     "data": {
      "application/vnd.jupyter.widget-view+json": {
       "model_id": "",
       "version_major": 2,
       "version_minor": 0
      },
      "text/plain": [
       "FloatProgress(value=0.0, bar_style='info', description='Progress:', layout=Layout(height='25px', width='50%'),…"
      ]
     },
     "metadata": {},
     "output_type": "display_data"
    },
    {
     "name": "stdout",
     "output_type": "stream",
     "text": [
      "+----------+-----------+---------+-------+------------+---------------+------------+--------------+----------+-------------+------------+-------------+------------+----+-----------------------+-----------------------+------+------+----------+-----------+--------------+---------+--------+----------+--------------+--------------------+--------+-------+--------+-----------+--------+--------+\n",
      "|SchemeCode|SchemeTitle|StartDate|EndDate|CustomerCode|DealerGroupCode|DealerSGCode|SalesGroupCode|DealerCode|SalesVolumeLY|SalesValueLY|SalesVolumeCY|SalesValueCY|Slab|UpperThresholdOfSlabVol|UpperThresholdOfSlabVal|Target|Growth|BasePoints|BonusPoints|EligiblePoints|Discounts|Duration|OperatedON|SchemePriority|ActiveRecommendation|Activity|LoadQtr|LoadMnth|LoadWeekNum|LoadFreq|LoadDate|\n",
      "+----------+-----------+---------+-------+------------+---------------+------------+--------------+----------+-------------+------------+-------------+------------+----+-----------------------+-----------------------+------+------+----------+-----------+--------------+---------+--------+----------+--------------+--------------------+--------+-------+--------+-----------+--------+--------+\n",
      "|         0|          0|        0|      0|           0|          11960|           0|             0|         0|            0|           0|            0|           0|   0|                  32161|                  18094|     0|     0|         0|          0|             0|        0|       0|         0|             0|                   0|       0|      0|       0|          0|       0|       0|\n",
      "+----------+-----------+---------+-------+------------+---------------+------------+--------------+----------+-------------+------------+-------------+------------+----+-----------------------+-----------------------+------+------+----------+-----------+--------------+---------+--------+----------+--------------+--------------------+--------+-------+--------+-----------+--------+--------+"
     ]
    }
   ],
   "source": [
    "scheme_dryrun.select([F.count(F.when(F.col(c).isNull() | F.isnan(c), c)).alias(c) for c in scheme_dryrun.columns]).show()"
   ]
  },
  {
   "cell_type": "code",
   "execution_count": 40,
   "id": "20431f3f",
   "metadata": {},
   "outputs": [
    {
     "data": {
      "application/vnd.jupyter.widget-view+json": {
       "model_id": "06ca8d845b9d42e1a6532016a9bc0f30",
       "version_major": 2,
       "version_minor": 0
      },
      "text/plain": [
       "VBox()"
      ]
     },
     "metadata": {},
     "output_type": "display_data"
    },
    {
     "data": {
      "application/vnd.jupyter.widget-view+json": {
       "model_id": "",
       "version_major": 2,
       "version_minor": 0
      },
      "text/plain": [
       "FloatProgress(value=0.0, bar_style='info', description='Progress:', layout=Layout(height='25px', width='50%'),…"
      ]
     },
     "metadata": {},
     "output_type": "display_data"
    }
   ],
   "source": [
    "scheme_dryrun= scheme_dryrun.fillna(0, subset= ['Slab', 'UpperThresholdOfSlabVol', 'UpperThresholdOfSlabVal'])"
   ]
  },
  {
   "cell_type": "code",
   "execution_count": 41,
   "id": "f4a32706",
   "metadata": {},
   "outputs": [
    {
     "data": {
      "application/vnd.jupyter.widget-view+json": {
       "model_id": "cf289d2a1d2c4667baf80b1e3694a797",
       "version_major": 2,
       "version_minor": 0
      },
      "text/plain": [
       "VBox()"
      ]
     },
     "metadata": {},
     "output_type": "display_data"
    },
    {
     "data": {
      "application/vnd.jupyter.widget-view+json": {
       "model_id": "",
       "version_major": 2,
       "version_minor": 0
      },
      "text/plain": [
       "FloatProgress(value=0.0, bar_style='info', description='Progress:', layout=Layout(height='25px', width='50%'),…"
      ]
     },
     "metadata": {},
     "output_type": "display_data"
    },
    {
     "name": "stdout",
     "output_type": "stream",
     "text": [
      "+----------+-----------+---------+-------+------------+---------------+------------+--------------+----------+-------------+------------+-------------+------------+----+-----------------------+-----------------------+------+------+----------+-----------+--------------+---------+--------+----------+--------------+--------------------+--------+-------+--------+-----------+--------+--------+\n",
      "|SchemeCode|SchemeTitle|StartDate|EndDate|CustomerCode|DealerGroupCode|DealerSGCode|SalesGroupCode|DealerCode|SalesVolumeLY|SalesValueLY|SalesVolumeCY|SalesValueCY|Slab|UpperThresholdOfSlabVol|UpperThresholdOfSlabVal|Target|Growth|BasePoints|BonusPoints|EligiblePoints|Discounts|Duration|OperatedON|SchemePriority|ActiveRecommendation|Activity|LoadQtr|LoadMnth|LoadWeekNum|LoadFreq|LoadDate|\n",
      "+----------+-----------+---------+-------+------------+---------------+------------+--------------+----------+-------------+------------+-------------+------------+----+-----------------------+-----------------------+------+------+----------+-----------+--------------+---------+--------+----------+--------------+--------------------+--------+-------+--------+-----------+--------+--------+\n",
      "|         0|          0|        0|      0|           0|          11960|           0|             0|         0|            0|           0|            0|           0|   0|                      0|                      0|     0|     0|         0|          0|             0|        0|       0|         0|             0|                   0|       0|      0|       0|          0|       0|       0|\n",
      "+----------+-----------+---------+-------+------------+---------------+------------+--------------+----------+-------------+------------+-------------+------------+----+-----------------------+-----------------------+------+------+----------+-----------+--------------+---------+--------+----------+--------------+--------------------+--------+-------+--------+-----------+--------+--------+"
     ]
    }
   ],
   "source": [
    "scheme_dryrun.select([F.count(F.when(F.col(c).isNull() | F.isnan(c), c)).alias(c) for c in scheme_dryrun.columns]).show()"
   ]
  },
  {
   "cell_type": "markdown",
   "id": "4deb3668",
   "metadata": {},
   "source": [
    "<h3> Save output"
   ]
  },
  {
   "cell_type": "code",
   "execution_count": 42,
   "id": "5b2f3473",
   "metadata": {},
   "outputs": [
    {
     "data": {
      "application/vnd.jupyter.widget-view+json": {
       "model_id": "ade7350e691d48e39d65cae22d4ac446",
       "version_major": 2,
       "version_minor": 0
      },
      "text/plain": [
       "VBox()"
      ]
     },
     "metadata": {},
     "output_type": "display_data"
    },
    {
     "data": {
      "application/vnd.jupyter.widget-view+json": {
       "model_id": "",
       "version_major": 2,
       "version_minor": 0
      },
      "text/plain": [
       "FloatProgress(value=0.0, bar_style='info', description='Progress:', layout=Layout(height='25px', width='50%'),…"
      ]
     },
     "metadata": {},
     "output_type": "display_data"
    },
    {
     "name": "stdout",
     "output_type": "stream",
     "text": [
      "+----------+--------------------+-------------------+-------------------+------------+---------------+------------+--------------+----------+-------------+------------+-------------+------------+----+-----------------------+-----------------------+------+------+----------+-----------+--------------+---------+--------+----------+--------------+--------------------+--------+-------+--------+-----------+--------+--------------------+\n",
      "|SchemeCode|         SchemeTitle|          StartDate|            EndDate|CustomerCode|DealerGroupCode|DealerSGCode|SalesGroupCode|DealerCode|SalesVolumeLY|SalesValueLY|SalesVolumeCY|SalesValueCY|Slab|UpperThresholdOfSlabVol|UpperThresholdOfSlabVal|Target|Growth|BasePoints|BonusPoints|EligiblePoints|Discounts|Duration|OperatedON|SchemePriority|ActiveRecommendation|Activity|LoadQtr|LoadMnth|LoadWeekNum|LoadFreq|            LoadDate|\n",
      "+----------+--------------------+-------------------+-------------------+------------+---------------+------------+--------------+----------+-------------+------------+-------------+------------+----+-----------------------+-----------------------+------+------+----------+-----------+--------------+---------+--------+----------+--------------+--------------------+--------+-------+--------+-----------+--------+--------------------+\n",
      "|    317343|Wudfin 1 K PU Foc...|2024-04-01 00:00:00|2024-06-30 00:00:00|     1043418|         1A0412|   1A0412105|           105|    1A0412|         0.00|        0.00|         1.00|      375.00|   5|                  99.99|                   0.00|  3.00|  0.00|      0.00|       0.00|         16.00|     0.00|      90|    Volume|             1|                   1|  Scheme| 2024Q1|       5|         18|  Weekly|2024-05-03 12:00:...|\n",
      "+----------+--------------------+-------------------+-------------------+------------+---------------+------------+--------------+----------+-------------+------------+-------------+------------+----+-----------------------+-----------------------+------+------+----------+-----------+--------------+---------+--------+----------+--------------+--------------------+--------+-------+--------+-----------+--------+--------------------+\n",
      "only showing top 1 row"
     ]
    }
   ],
   "source": [
    "scheme_dryrun.show(1)"
   ]
  },
  {
   "cell_type": "code",
   "execution_count": 43,
   "id": "e8cadfeb",
   "metadata": {},
   "outputs": [
    {
     "data": {
      "application/vnd.jupyter.widget-view+json": {
       "model_id": "1dc2fe903fa1438cb8cdc3e6ed3730fc",
       "version_major": 2,
       "version_minor": 0
      },
      "text/plain": [
       "VBox()"
      ]
     },
     "metadata": {},
     "output_type": "display_data"
    },
    {
     "data": {
      "application/vnd.jupyter.widget-view+json": {
       "model_id": "",
       "version_major": 2,
       "version_minor": 0
      },
      "text/plain": [
       "FloatProgress(value=0.0, bar_style='info', description='Progress:', layout=Layout(height='25px', width='50%'),…"
      ]
     },
     "metadata": {},
     "output_type": "display_data"
    }
   ],
   "source": [
    "scheme_dryrun = scheme_dryrun.orderBy(col('SalesGroupCode').asc(),col('DealerSGCode').asc())\n",
    "scheme_dryrun.write.mode(\"overwrite\").parquet(\"s3://pidilite-raw-zone/gold/scheme_achievement/schemes_updated/\")\n",
    "#scheme_dryrun.write.mode(\"overwrite\").csv(\"s3://pidilite-raw-zone/gold/scheme_achievement/schemes_updated/\", header= True)"
   ]
  },
  {
   "cell_type": "code",
   "execution_count": null,
   "id": "5c478ae7",
   "metadata": {},
   "outputs": [],
   "source": []
  }
 ],
 "metadata": {
  "kernelspec": {
   "display_name": "PySpark",
   "language": "python",
   "name": "pysparkkernel"
  },
  "language_info": {
   "codemirror_mode": {
    "name": "python",
    "version": 3
   },
   "file_extension": ".py",
   "mimetype": "text/x-python",
   "name": "pyspark",
   "pygments_lexer": "python3"
  }
 },
 "nbformat": 4,
 "nbformat_minor": 5
}
